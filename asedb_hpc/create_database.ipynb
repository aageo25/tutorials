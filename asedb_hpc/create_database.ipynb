{
 "cells": [
  {
   "cell_type": "markdown",
   "metadata": {},
   "source": [
    "# How to use ASE database to manage calculations in a HPC\n",
    "\n",
    "In this hands-on, you will make use of the ASE database to manage calculations in a HPC environment. The material is based on the [ASE tutorial for surface adosprtion](https://wiki.fysik.dtu.dk/ase/tutorials/db/db.html).\n",
    "\n",
    "Further information can be found at the [ASE database main page](https://wiki.fysik.dtu.dk/ase/ase/db/db.html)\n",
    "\n",
    "Prerequisites:\n",
    "\n",
    "* ase > 3.19\n",
    "* numpy\n",
    "* bash/powershell\n",
    "\n",
    "For this tutorial, you just need to run the cells in this notebook. In a HPC, run the cells that start with `!` or `%` in a bash shell (terminal)."
   ]
  },
  {
   "cell_type": "markdown",
   "metadata": {},
   "source": [
    "# Creating surfaces and storing in the database\n",
    "\n",
    "As a test example, you will create a database with three low-Miller index surfaces of a metal (or many metals). To keep simple,  the `EMT` calculator implemented in ASE will be used. However, the workflow will work for any calculator implemented in ASE.\n",
    "\n",
    "If you combine your knowledge in ase/python and bash, you can do many other things."
   ]
  },
  {
   "cell_type": "code",
   "execution_count": null,
   "metadata": {},
   "outputs": [],
   "source": [
    "# load the necessary modules\n",
    "from ase.build import fcc100,fcc110,fcc111\n",
    "from ase.calculators.emt import EMT\n",
    "from ase.db import connect"
   ]
  },
  {
   "cell_type": "code",
   "execution_count": null,
   "metadata": {},
   "outputs": [],
   "source": [
    "# give a name to your database\n",
    "dbname = 'surfaces.db'\n",
    "db = connect(dbname,append=False) \n",
    "# append=False overwrites an existing database. To avoid that, use append=True"
   ]
  },
  {
   "cell_type": "code",
   "execution_count": null,
   "metadata": {},
   "outputs": [],
   "source": [
    "# make some key-value pairs to help you keeping track of the calculations\n",
    "kvp_hpc = {\n",
    "    'queued':'False',\n",
    "    'started':'False',\n",
    "    'converged':'False'\n",
    "}"
   ]
  },
  {
   "cell_type": "code",
   "execution_count": null,
   "metadata": {},
   "outputs": [],
   "source": [
    "# build your calculator\n",
    "calc = EMT()"
   ]
  },
  {
   "cell_type": "code",
   "execution_count": null,
   "metadata": {},
   "outputs": [],
   "source": [
    "# create a dictionary to automate the creation of the surfaces\n",
    "surfaces = {\n",
    "    'fcc100':fcc100,\n",
    "    'fcc110':fcc110,\n",
    "    'fcc111':fcc111,    \n",
    "}"
   ]
  },
  {
   "cell_type": "code",
   "execution_count": null,
   "metadata": {},
   "outputs": [],
   "source": [
    "# choose one (or more) of the following elements, and build the surfaces:\n",
    "#for symb in ['Al', 'Ni', 'Cu', 'Pd', 'Ag', 'Pt', 'Au']:\n",
    "for symb in ['Au']:\n",
    "    for surf in surfaces.keys():\n",
    "        for n in [1, 2, 3]: # make surfaces with 1, 2 and 3 layers\n",
    "            atoms = surfaces[surf](symb,(1,1,n))\n",
    "            atoms.calc = calc # attach the calculator\n",
    "            db.write(atoms, symbol=symb, surface=surf, layers=n, **kvp_hpc) # write into the database"
   ]
  },
  {
   "cell_type": "markdown",
   "metadata": {},
   "source": [
    "Now let's look at the database using the `ase db` command line interface. The help command is your best friend here:"
   ]
  },
  {
   "cell_type": "code",
   "execution_count": null,
   "metadata": {},
   "outputs": [],
   "source": [
    "! ase db --help"
   ]
  },
  {
   "cell_type": "code",
   "execution_count": null,
   "metadata": {},
   "outputs": [],
   "source": [
    "# this command provides a quite useful database description\n",
    "!ase db {dbname} -c ++ -L 0"
   ]
  },
  {
   "cell_type": "markdown",
   "metadata": {},
   "source": [
    "The idea of using database is to keep your structures organized. It is a good practice to keep the same with your folders. Here is one suggestion of three main folders for a project:\n",
    "\n",
    "* **The run folder:** Here you submit your calculations. Making subfolders will help you finding structures when your database grows. And trust me, it will grow.\n",
    "\n",
    "* **The scripts folder:** Keep all scripts that you wrote for the project here. It can be useful later when you share your workflow with someone.\n",
    "\n",
    "* **The backup folder:** Once in a while make a copy of your database to the backup folder. If for whatever reason the database file corrupts, then you have a backup.\n",
    "\n",
    "Let us make the run and the backup folders. The script folder was previously created and contains the same content included in this notebook."
   ]
  },
  {
   "cell_type": "code",
   "execution_count": null,
   "metadata": {},
   "outputs": [],
   "source": [
    "!mkdir run backup"
   ]
  },
  {
   "cell_type": "code",
   "execution_count": null,
   "metadata": {},
   "outputs": [],
   "source": [
    "%cd run"
   ]
  },
  {
   "cell_type": "markdown",
   "metadata": {},
   "source": [
    "Now let's make the folders that will be used in our calculations. Here each folder will be named with the `row id` that is created automatically when a new row is written in the database. The cell below contains the same content as the file `prepare_folders.py` from the `scripts` folder. Run the next cell for creating subfolders:"
   ]
  },
  {
   "cell_type": "code",
   "execution_count": null,
   "metadata": {},
   "outputs": [],
   "source": [
    "# %load ../scripts/prepare_folders.py\n",
    "import os\n",
    "import shutil\n",
    "from ase.db import connect\n",
    " \n",
    "db = connect('../'+dbname)\n",
    " \n",
    "prevdir = os.getcwd()\n",
    "\n",
    "# here query can be anything\n",
    "query = ''\n",
    "\n",
    "for row in db.select(query):\n",
    "    dir = str(row.id)\n",
    "    # create the subfolders\n",
    "    try:\n",
    "        os.mkdir(dir)\n",
    "    except FileExistsError:\n",
    "        print(f'Keeping folder {dir}')\n",
    "    else:\n",
    "        print(f'Creating folder {dir}')\n",
    "    os.chdir(dir)\n",
    "    # make a symbolic link for your sbatch submission file\n",
    "    try:\n",
    "        os.symlink('../run.sh', 'run.sh')\n",
    "    except:\n",
    "        pass\n",
    "    # write a file with the row id\n",
    "    with open('db_id', 'w') as out:\n",
    "        out.write(dir)\n",
    "    os.chdir(prevdir)"
   ]
  },
  {
   "cell_type": "markdown",
   "metadata": {},
   "source": [
    "Copy the necessary files to submit the calculation to a queue"
   ]
  },
  {
   "cell_type": "code",
   "execution_count": null,
   "metadata": {},
   "outputs": [],
   "source": [
    "%cp ../scripts/worker.sh ../scripts/run.sh ../scripts/run.py ."
   ]
  },
  {
   "cell_type": "markdown",
   "metadata": {},
   "source": [
    "Let us look at these files:\n",
    "\n",
    "`worker.sh`\n",
    "\n",
    "This script walks through your sufolders, and perform some actions. The action can be submitting a calculation, or running a script that analyzes the results, for example. For this tutorial we will enter on each subfolder and run the `run.py` script:\n",
    "\n",
    "```bash\n",
    "#!/bin/bash                                                                    \n",
    "\n",
    "# different ways to walk in the subfolders \n",
    "calc_id=\"$(find . -type d | sort -n |awk -F  \"/\" '{print $2}')\"\n",
    "#calc_id=\"$(cat list_id.txt)\"\n",
    "#calc_id=\"$(seq 1 9)\"\n",
    "#calc_id=\"3\"\n",
    " \n",
    "home_dir=$(pwd)\n",
    "\n",
    "#Be careful here. Double-check if this is the database you want to connect.\n",
    "db=\"../../surfaces.db\" # A full path is preferred. \n",
    " \n",
    "for i in $calc_id ; do\n",
    "    work_id=${i}\n",
    "    cd $work_id\n",
    "    echo ========\n",
    "    echo $work_id\n",
    "    echo ========\n",
    "    # submit the calculation\n",
    "    #sbatch --job-name=$work_id.surfaces run.sh > JobID ; more JobID\n",
    "    # update the status in the database\n",
    "    ase db $db id=$work_id -k queued=True\n",
    "    # run a script in the subfolder\n",
    "    python ../run.py $db\n",
    "    cd $home_dir\n",
    "done\n",
    "```\n",
    "***\n",
    "`run.sh`\n",
    "\n",
    "This is one example of a sbatch submission file for [Kebnekaise@HPC2N](https://www.hpc2n.umu.se/resources/hardware/kebnekaise). Usually the `worker.sh` script submits this script to the queue in each subfolder.\n",
    "\n",
    "```bash\n",
    "#!/bin/bash -l\n",
    "# The -l above is required to get the full environment with modules\n",
    "\n",
    "#SBATCH -A snic2020-1-41\n",
    "#SBATCH --mail-type=ALL\n",
    "#SBATCH -t 1-00:00:00\n",
    "\n",
    "#SBATCH -J id_xx\n",
    "#SBATCH -o dat.out\n",
    "\n",
    "# number of nodes\n",
    "#SBATCH -n 28\n",
    "\n",
    "# NEEDED MODULES FOR THE CALCULATION\n",
    "module purge\n",
    "source ~/calcs/env/load_vasp_ase\n",
    "\n",
    "# RUN THE PYTHON CODE\n",
    "python ../run.py\n",
    "```\n",
    "\n",
    "***\n",
    "`run.py`\n",
    "\n",
    "This is one example on how to use ASE and its database module to run calculations.\n",
    "\n",
    "```python\n",
    "import numpy as np\n",
    "from ase.db import connect\n",
    "from sys import argv\n",
    "\n",
    "dbname = argv[1]\n",
    "dbid = int(np.loadtxt('db_id'))\n",
    "\n",
    "db = connect(dbname)\n",
    "\n",
    "# get the atoms with the calculator attached\n",
    "atoms = db.get_atoms(db_id,attach_calculator=True)\n",
    "\n",
    "# update started key-value pair in the db\n",
    "db.update(db_id,started=True)\n",
    "\n",
    "# run the calculation using ase\n",
    "atoms.get_potential_energy()\n",
    "\n",
    "print('===========================================')\n",
    "print('Relaxation completed')\n",
    "print('===========================================')\n",
    "\n",
    "# update the database with the final geometry\n",
    "db.update(dbid,atoms=atoms,converged=True)\n",
    "```"
   ]
  },
  {
   "cell_type": "markdown",
   "metadata": {},
   "source": [
    "Now let's pretend that you will submit your calculations to a queue. You will be in a login node, and the only thing you need to do is execute `worker.sh` in the run folder. The events in a cronological order would be:\n",
    "\n",
    "1. Change directory to a subfolder.\n",
    "1. Submit the calculation to the queuying system.\n",
    "1. Update the status in the database (queued=True).\n",
    "1. Change to the parent directory.\n",
    "1. Change directory to another subfolder.\n",
    "1. Repeat steps 2, 3, and 4.\n",
    "1. ...\n",
    "\n",
    "In the `run.py` script, two other key-value pairs will be updated in the database: `started` right before running the calculations, and `converged` once the calculation is finished.\n",
    "\n",
    "For this tutorial, we skip the submission to the queue. Instead, we run the `run.py` script in each subfolder, and update the results in the database. When you run the next cell, you will see in cronological order:\n",
    "1. The folder name that you entered.\n",
    "1. A message saying that one key-value pair was updated in the database.\n",
    "1. A message after the calculations has been completed.\n",
    "\n",
    "Let's run!"
   ]
  },
  {
   "cell_type": "code",
   "execution_count": null,
   "metadata": {},
   "outputs": [],
   "source": [
    "!bash worker.sh"
   ]
  },
  {
   "cell_type": "markdown",
   "metadata": {},
   "source": [
    "And that's it. Your database has now the relaxed surfaces for further analysis. To finish with the tutorial, let's see the database once again:"
   ]
  },
  {
   "cell_type": "code",
   "execution_count": null,
   "metadata": {},
   "outputs": [],
   "source": [
    "# leave the run folder\n",
    "%cd ..\n",
    "\n",
    "# quick overview of the database\n",
    "!ase db surfaces.db -c++ -L 0"
   ]
  },
  {
   "cell_type": "code",
   "execution_count": null,
   "metadata": {},
   "outputs": [],
   "source": []
  }
 ],
 "metadata": {
  "kernelspec": {
   "display_name": "Python 3",
   "language": "python",
   "name": "python3"
  },
  "language_info": {
   "codemirror_mode": {
    "name": "ipython",
    "version": 3
   },
   "file_extension": ".py",
   "mimetype": "text/x-python",
   "name": "python",
   "nbconvert_exporter": "python",
   "pygments_lexer": "ipython3",
   "version": "3.8.5"
  }
 },
 "nbformat": 4,
 "nbformat_minor": 4
}
